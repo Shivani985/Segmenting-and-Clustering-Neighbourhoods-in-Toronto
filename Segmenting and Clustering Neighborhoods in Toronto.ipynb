{
    "cells": [
        {
            "metadata": {},
            "cell_type": "markdown",
            "source": "# Segmenting and Clustering Neighborhoods in Toronto\n\n\n#### The project includes scraping the Wikipedia page for the postal codes of Canada and then process and clean the data for the clustering. The clustering is carried out by K Means and the clusters are plotted using the Folium Library. The Boroughs containing the name 'Toronto' in it are first plotted and then clustered and plotted again.\n\n"
        },
        {
            "metadata": {},
            "cell_type": "code",
            "source": "!pip install beautifulsoup4\n!pip install lxml\nimport requests # library to handle requests\nimport pandas as pd # library for data analsysis\nimport numpy as np # library to handle data in a vectorized manner\nimport random # library for random number generation\n\n#!conda install -c conda-forge geopy --yes \nfrom geopy.geocoders import Nominatim # module to convert an address into latitude and longitude values\n\n# libraries for displaying images\nfrom IPython.display import Image \nfrom IPython.core.display import HTML \n\n\nfrom IPython.display import display_html\nimport pandas as pd\nimport numpy as np\n    \n# tranforming json file into a pandas dataframe library\nfrom pandas.io.json import json_normalize\n\n!conda install -c conda-forge folium=0.5.0 --yes\nimport folium # plotting library\nfrom bs4 import BeautifulSoup\nfrom sklearn.cluster import KMeans\nimport matplotlib.cm as cm\nimport matplotlib.colors as colors\n\nprint('Folium installed')\nprint('Libraries imported.')",
            "execution_count": null,
            "outputs": []
        },
        {
            "metadata": {},
            "cell_type": "code",
            "source": "url = requests.get('https://en.wikipedia.org/wiki/List_of_postal_codes_of_Canada:_M').text\nsoup = BeautifulSoup(url,'lxml')\n#print(soup.prettify())\nfrom IPython.display import display_html\ntab = str(soup.table)\ndisplay_html(tab,raw=True)",
            "execution_count": null,
            "outputs": []
        },
        {
            "metadata": {},
            "cell_type": "markdown",
            "source": "## Now The HTML Table is Converted Into pandas dataframe"
        },
        {
            "metadata": {},
            "cell_type": "code",
            "source": "df = pd.read_html(tab)\ndf1=df[0]\ndf1.head()",
            "execution_count": null,
            "outputs": []
        },
        {
            "metadata": {},
            "cell_type": "markdown",
            "source": "### NOW CLEANING THE DATA AND PROCESSING IT!!"
        },
        {
            "metadata": {},
            "cell_type": "code",
            "source": "df2 = df1[df1.Borough != 'Not assigned']\n\n# Combining the neighbourhoods with same Postalcode\ndf3 = df2.groupby(['Postal Code','Borough'], sort=False).agg(', '.join)\ndf3.reset_index(inplace=True)\n\n# Replacing the name of the neighbourhoods which are 'Not assigned' with names of Borough\ndf3['Neighborhood'] = np.where(df3['Neighborhood'] == 'Not assigned',df3['Borough'], df3['Neighborhood'])\n\ndf3.rename(columns={'Postal Code':'Postalcode'},inplace=True)\ndf3",
            "execution_count": null,
            "outputs": []
        },
        {
            "metadata": {},
            "cell_type": "code",
            "source": "# Shape of data frame\ndf3.shape",
            "execution_count": null,
            "outputs": []
        },
        {
            "metadata": {},
            "cell_type": "markdown",
            "source": "### IMPORTING THE CSV FILE CONTAINING LATITUDE AND LONGITUDE OF NEIGHBORHOOD IN TORONTO"
        },
        {
            "metadata": {},
            "cell_type": "code",
            "source": "lat_lon = pd.read_csv('https://cocl.us/Geospatial_data')\nlat_lon.rename(columns={'Postal Code':'Postalcode'},inplace=True)\nlat_lon.head()\n",
            "execution_count": null,
            "outputs": []
        },
        {
            "metadata": {},
            "cell_type": "markdown",
            "source": "### MERGING BOTH THE TABLES"
        },
        {
            "metadata": {},
            "cell_type": "code",
            "source": "\ndf4 = pd.merge(df3,lat_lon,on='Postalcode')\ndf4.head()",
            "execution_count": null,
            "outputs": []
        },
        {
            "metadata": {},
            "cell_type": "markdown",
            "source": "### Getting all the rows from the data frame which contains Toronto in their Borough."
        },
        {
            "metadata": {},
            "cell_type": "code",
            "source": "df5 = df4[df4['Borough'].str.contains('Toronto',regex=False)]\ndf5",
            "execution_count": null,
            "outputs": []
        },
        {
            "metadata": {},
            "cell_type": "markdown",
            "source": "### Using KMeans clustering for the clustering of the neighborhoods"
        },
        {
            "metadata": {},
            "cell_type": "code",
            "source": "k=5\ntoronto_clustering = df5.drop(['Postalcode','Borough','Neighborhood'],1)\nkmeans = KMeans(n_clusters = k,random_state=0).fit(toronto_clustering)\nkmeans.labels_\ndf5.insert(0, 'Cluster Labels', kmeans.labels_)",
            "execution_count": null,
            "outputs": []
        },
        {
            "metadata": {},
            "cell_type": "code",
            "source": "df5",
            "execution_count": null,
            "outputs": []
        },
        {
            "metadata": {
                "scrolled": false
            },
            "cell_type": "code",
            "source": "# create map\nmap_clusters = folium.Map(location=[43.651070,-79.347015], zoom_start=11)\n\n# set color scheme for the clusters\nx = np.arange(k)\nys = [i + x + (i*x)**2 for i in range(k)]\ncolors_array = cm.rainbow(np.linspace(0, 1, len(ys)))\nrainbow = [colors.rgb2hex(i) for i in colors_array]\n\n# add markers to the map\nmarkers_colors = []\nfor lat, lon, poi, cluster in zip(df5['Latitude'], df5['Longitude'], df5['Neighborhood'], df5['Cluster Labels']):\n    label = folium.Popup(str(poi) + ' Cluster ' + str(cluster), parse_html=True)\n    folium.CircleMarker(\n        [lat, lon],\n        radius=5,\n        popup=label,\n        color=rainbow[cluster-1],\n        fill=True,\n        fill_color=rainbow[cluster-1],\n        fill_opacity=0.7).add_to(map_clusters)\n       \n       \nmap_clusters",
            "execution_count": null,
            "outputs": []
        },
        {
            "metadata": {},
            "cell_type": "code",
            "source": "",
            "execution_count": null,
            "outputs": []
        }
    ],
    "metadata": {
        "kernelspec": {
            "name": "python3",
            "display_name": "Python 3.6",
            "language": "python"
        },
        "language_info": {
            "name": "python",
            "version": "3.6.9",
            "mimetype": "text/x-python",
            "codemirror_mode": {
                "name": "ipython",
                "version": 3
            },
            "pygments_lexer": "ipython3",
            "nbconvert_exporter": "python",
            "file_extension": ".py"
        }
    },
    "nbformat": 4,
    "nbformat_minor": 1
}